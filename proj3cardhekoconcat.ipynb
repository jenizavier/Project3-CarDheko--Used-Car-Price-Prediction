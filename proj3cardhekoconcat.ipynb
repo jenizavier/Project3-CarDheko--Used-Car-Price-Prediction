{
 "cells": [
  {
   "cell_type": "code",
   "execution_count": 7,
   "id": "2e4c7a8f-6b84-4fdb-a231-81b2f8b8c9a6",
   "metadata": {},
   "outputs": [
    {
     "name": "stdout",
     "output_type": "stream",
     "text": [
      "                                      new_car_detail  \\\n",
      "0  {'it': 0, 'ft': 'Petrol', 'bt': 'Hatchback', '...   \n",
      "1  {'it': 0, 'ft': 'Petrol', 'bt': 'SUV', 'km': '...   \n",
      "2  {'it': 0, 'ft': 'Petrol', 'bt': 'Hatchback', '...   \n",
      "3  {'it': 0, 'ft': 'Petrol', 'bt': 'Sedan', 'km':...   \n",
      "4  {'it': 0, 'ft': 'Diesel', 'bt': 'SUV', 'km': '...   \n",
      "\n",
      "                                    new_car_overview  \\\n",
      "0  {'heading': 'Car overview', 'top': [{'key': 'R...   \n",
      "1  {'heading': 'Car overview', 'top': [{'key': 'R...   \n",
      "2  {'heading': 'Car overview', 'top': [{'key': 'R...   \n",
      "3  {'heading': 'Car overview', 'top': [{'key': 'R...   \n",
      "4  {'heading': 'Car overview', 'top': [{'key': 'R...   \n",
      "\n",
      "                                     new_car_feature  \\\n",
      "0  {'heading': 'Features', 'top': [{'value': 'Pow...   \n",
      "1  {'heading': 'Features', 'top': [{'value': 'Pow...   \n",
      "2  {'heading': 'Features', 'top': [{'value': 'Pow...   \n",
      "3  {'heading': 'Features', 'top': [{'value': 'Pow...   \n",
      "4  {'heading': 'Features', 'top': [{'value': 'Pow...   \n",
      "\n",
      "                                       new_car_specs  \\\n",
      "0  {'heading': 'Specifications', 'top': [{'key': ...   \n",
      "1  {'heading': 'Specifications', 'top': [{'key': ...   \n",
      "2  {'heading': 'Specifications', 'top': [{'key': ...   \n",
      "3  {'heading': 'Specifications', 'top': [{'key': ...   \n",
      "4  {'heading': 'Specifications', 'top': [{'key': ...   \n",
      "\n",
      "                                           car_links       City  \n",
      "0  https://www.cardekho.com/used-car-details/used...  Bangalore  \n",
      "1  https://www.cardekho.com/buy-used-car-details/...  Bangalore  \n",
      "2  https://www.cardekho.com/used-car-details/used...  Bangalore  \n",
      "3  https://www.cardekho.com/buy-used-car-details/...  Bangalore  \n",
      "4  https://www.cardekho.com/used-car-details/used...  Bangalore  \n"
     ]
    }
   ],
   "source": [
    "import pandas as pd\n",
    "\n",
    "# List of file paths and corresponding city names\n",
    "file_paths = [\n",
    "    (r'E:\\GUVI\\PROJECT 3 CARDHEKO\\DATASET\\bangalore_cars.xlsx', 'Bangalore'),\n",
    "    (r'E:\\GUVI\\PROJECT 3 CARDHEKO\\DATASET\\chennai_cars.xlsx', 'Chennai'),\n",
    "    (r'E:\\GUVI\\PROJECT 3 CARDHEKO\\DATASET\\delhi_cars.xlsx', 'Delhi'),\n",
    "    (r'E:\\GUVI\\PROJECT 3 CARDHEKO\\DATASET\\jaipur_cars.xlsx', 'Jaipur'),\n",
    "    (r'E:\\GUVI\\PROJECT 3 CARDHEKO\\DATASET\\kolkata_cars.xlsx', 'Kolkata'),\n",
    "    (r'E:\\GUVI\\PROJECT 3 CARDHEKO\\DATASET\\hyderabad_cars.xlsx', 'Hyderabad')\n",
    "]\n",
    "\n",
    "# Read and concatenate the files with the respective city as a new column\n",
    "dfs = []\n",
    "for file_path, city in file_paths:\n",
    "    df = pd.read_excel(file_path)\n",
    "    df['City'] = city  # Add a new column with the city name\n",
    "    dfs.append(df)\n",
    "\n",
    "final_df = pd.concat(dfs, ignore_index=True)\n",
    "\n",
    "# Display the first few rows of the concatenated DataFrame\n",
    "print(final_df.head())\n",
    "\n",
    "# Save the concatenated DataFrame to a new CSV file\n",
    "final_df.to_csv(r'E:\\GUVI\\PROJECT 3 CARDHEKO\\DATASET\\concatenated_output.csv', index=False)\n"
   ]
  },
  {
   "cell_type": "code",
   "execution_count": null,
   "id": "b96c4524-51e6-41b2-ae09-5bb7d8183c15",
   "metadata": {},
   "outputs": [],
   "source": []
  }
 ],
 "metadata": {
  "kernelspec": {
   "display_name": "Python 3 (ipykernel)",
   "language": "python",
   "name": "python3"
  },
  "language_info": {
   "codemirror_mode": {
    "name": "ipython",
    "version": 3
   },
   "file_extension": ".py",
   "mimetype": "text/x-python",
   "name": "python",
   "nbconvert_exporter": "python",
   "pygments_lexer": "ipython3",
   "version": "3.11.7"
  }
 },
 "nbformat": 4,
 "nbformat_minor": 5
}
